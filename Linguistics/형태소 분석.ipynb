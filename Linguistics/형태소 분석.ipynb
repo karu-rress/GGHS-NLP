{
 "cells": [
  {
   "cell_type": "code",
   "execution_count": 13,
   "metadata": {},
   "outputs": [],
   "source": [
    "from konlpy.tag import Okt\n",
    "from konlpy.tag import Kkma\n",
    "\n",
    "from nltk.corpus import stopwords\n",
    "from nltk.stem import LancasterStemmer\n",
    "from nltk.stem import PorterStemmer\n",
    "from nltk.stem import WordNetLemmatizer\n",
    "from nltk.tag import pos_tag\n",
    "from nltk.tokenize import RegexpTokenizer\n",
    "from nltk.tokenize import TreebankWordTokenizer\n",
    "\n",
    "import nltk\n",
    "import re"
   ]
  },
  {
   "cell_type": "code",
   "execution_count": 14,
   "metadata": {},
   "outputs": [
    {
     "name": "stdout",
     "output_type": "stream",
     "text": [
      "짧은 단어 삭제:  was wondering anyone out there could enlighten this car.\n",
      "단어 토큰화 1: ['Time', 'is', 'an', 'illusion', 'Lunchtime', 'double', 'so']\n",
      "단어 토큰화 2: ['Starting', 'a', 'home', 'based', 'restaurant', 'may', 'be', 'an', 'ideal', 'it', 'doesn', 't', 'have', 'a', 'food', 'chain', 'or', 'restaurant', 'of', 'their', 'own']\n"
     ]
    }
   ],
   "source": [
    "eng_sentence = 'I was wondering if anyone out there could enlighten me on this car.'\n",
    "\n",
    "# 길이가 1~2인 단어들은 큰 의미가 없으니 삭제합시다.\n",
    "shortword = re.compile(r'\\W*\\b\\w{1,2}\\b')\n",
    "data = shortword.sub('', eng_sentence)\n",
    "\n",
    "print('짧은 단어 삭제:', data)\n",
    "\n",
    "# 단어만 가지고 토큰화를 해봅시다.\n",
    "tokenizer = RegexpTokenizer('[\\w]+')\n",
    "eng_sentence = 'Time is an illusion. Lunchtime double so!'\n",
    "tokens = tokenizer.tokenize(eng_sentence)\n",
    "\n",
    "print('단어 토큰화 1:', tokens)\n",
    "\n",
    "eng_sentence = \"Starting a home-based restaurant may be an ideal. it doesn't have a food chain or restaurant of their own.\"\n",
    "tokens = tokenizer.tokenize(eng_sentence)\n",
    "print('단어 토큰화 2:', tokens)"
   ]
  },
  {
   "cell_type": "code",
   "execution_count": 15,
   "metadata": {},
   "outputs": [
    {
     "name": "stdout",
     "output_type": "stream",
     "text": [
      "트리뱅크 워드토크나이저 : ['Starting', 'a', 'home-based', 'restaurant', 'may', 'be', 'an', 'ideal.', 'it', 'does', \"n't\", 'have', 'a', 'food', 'chain', 'or', 'restaurant', 'of', 'their', 'own', '.']\n"
     ]
    }
   ],
   "source": [
    "tokenizer = TreebankWordTokenizer()\n",
    "tokens = tokenizer.tokenize(eng_sentence)\n",
    "print('트리뱅크 워드토크나이저 :', tokens)"
   ]
  },
  {
   "cell_type": "code",
   "execution_count": 16,
   "metadata": {},
   "outputs": [
    {
     "name": "stdout",
     "output_type": "stream",
     "text": [
      "OKT 형태소 분석 : ['열심히', '코딩', '한', '당신', ',', '연휴', '에는', '여행', '을', '가봐요']\n",
      "OKT 품사 태깅 : [('열심히', 'Adverb'), ('코딩', 'Noun'), ('한', 'Josa'), ('당신', 'Noun'), (',', 'Punctuation'), ('연휴', 'Noun'), ('에는', 'Josa'), ('여행', 'Noun'), ('을', 'Josa'), ('가봐요', 'Verb')]\n",
      "OKT 명사 추출 : ['코딩', '당신', '연휴', '여행']\n",
      "\n",
      "꼬꼬마 형태소 분석 : ['열심히', '코딩', '하', 'ㄴ', '당신', ',', '연휴', '에', '는', '여행', '을', '가보', '아요']\n",
      "꼬꼬마 품사 태깅 : [('열심히', 'MAG'), ('코딩', 'NNG'), ('하', 'XSV'), ('ㄴ', 'ETD'), ('당신', 'NP'), (',', 'SP'), ('연휴', 'NNG'), ('에', 'JKM'), ('는', 'JX'), ('여행', 'NNG'), ('을', 'JKO'), ('가보', 'VV'), ('아요', 'EFN')]\n",
      "꼬꼬마 명사 추출 : ['코딩', '당신', '연휴', '여행']\n"
     ]
    }
   ],
   "source": [
    "okt = Okt()\n",
    "kkma = Kkma()\n",
    "\n",
    "# 이 문장을 적절히 바꾸어보세요\n",
    "kor_sentence = '열심히 코딩한 당신, 연휴에는 여행을 가봐요'\n",
    "\n",
    "print('OKT 형태소 분석 :', okt.morphs(kor_sentence))\n",
    "print('OKT 품사 태깅 :', okt.pos(kor_sentence))\n",
    "print('OKT 명사 추출 :', okt.nouns(kor_sentence)) \n",
    "\n",
    "print('\\n꼬꼬마 형태소 분석 :',kkma.morphs(kor_sentence))\n",
    "print('꼬꼬마 품사 태깅 :',kkma.pos(kor_sentence))\n",
    "print('꼬꼬마 명사 추출 :',kkma.nouns(kor_sentence))  "
   ]
  },
  {
   "cell_type": "code",
   "execution_count": 17,
   "metadata": {},
   "outputs": [
    {
     "name": "stderr",
     "output_type": "stream",
     "text": [
      "[nltk_data] Downloading package averaged_perceptron_tagger to\n",
      "[nltk_data]     C:\\Users\\nsun5\\AppData\\Roaming\\nltk_data...\n",
      "[nltk_data]   Package averaged_perceptron_tagger is already up-to-\n",
      "[nltk_data]       date!\n"
     ]
    },
    {
     "name": "stdout",
     "output_type": "stream",
     "text": [
      "트리뱅크 워드토크나이저 :  ['Starting', 'a', 'home-based', 'restaurant', 'may', 'be', 'an', 'ideal.', 'it', 'does', \"n't\", 'have', 'a', 'food', 'chain', 'or', 'restaurant', 'of', 'their', 'own', '.']\n",
      "품사 태깅 : [('Starting', 'VBG'), ('a', 'DT'), ('home-based', 'JJ'), ('restaurant', 'NN'), ('may', 'MD'), ('be', 'VB'), ('an', 'DT'), ('ideal.', 'NN'), ('it', 'PRP'), ('does', 'VBZ'), (\"n't\", 'RB'), ('have', 'VB'), ('a', 'DT'), ('food', 'NN'), ('chain', 'NN'), ('or', 'CC'), ('restaurant', 'NN'), ('of', 'IN'), ('their', 'PRP$'), ('own', 'JJ'), ('.', '.')]\n"
     ]
    }
   ],
   "source": [
    "nltk.download('averaged_perceptron_tagger')\n",
    "\n",
    "tokenizer = TreebankWordTokenizer()\n",
    "tokens = tokenizer.tokenize(eng_sentence)\n",
    "postag = pos_tag(tokens)\n",
    "\n",
    "print('트리뱅크 워드토크나이저 : ',tokens)\n",
    "print('품사 태깅 :',postag)"
   ]
  },
  {
   "cell_type": "code",
   "execution_count": 18,
   "metadata": {},
   "outputs": [
    {
     "name": "stderr",
     "output_type": "stream",
     "text": [
      "[nltk_data] Downloading package wordnet to\n",
      "[nltk_data]     C:\\Users\\nsun5\\AppData\\Roaming\\nltk_data...\n",
      "[nltk_data]   Package wordnet is already up-to-date!\n"
     ]
    },
    {
     "name": "stdout",
     "output_type": "stream",
     "text": [
      "표제어 추출 전 : ['policy', 'doing', 'organization', 'have', 'going', 'love', 'lives', 'fly', 'dies', 'watched', 'has', 'starting']\n",
      "표제어 추출 후 : ['policy', 'doing', 'organization', 'have', 'going', 'love', 'life', 'fly', 'dy', 'watched', 'ha', 'starting']\n"
     ]
    }
   ],
   "source": [
    "nltk.download('wordnet')\n",
    "\n",
    "lemmatizer = WordNetLemmatizer()\n",
    "wordlist = ['policy', 'doing', 'organization', 'have', 'going', 'love', 'lives', 'fly', 'dies', 'watched', 'has', 'starting']\n",
    "refined = [lemmatizer.lemmatize(data) for data in wordlist]\n",
    "\n",
    "print('표제어 추출 전 :', wordlist)\n",
    "print('표제어 추출 후 :', refined)"
   ]
  },
  {
   "cell_type": "code",
   "execution_count": 19,
   "metadata": {},
   "outputs": [
    {
     "name": "stdout",
     "output_type": "stream",
     "text": [
      "어간 추출 전 : ['This', 'was', 'not', 'the', 'map', 'we', 'found', 'in', 'Billy', 'Bones', \"'s\", 'chest', ',', 'but', 'an', 'accurate', 'copy', ',', 'complete', 'in', 'all', 'things', '--', 'names', 'and', 'heights', 'and', 'soundings', '--', 'with', 'the', 'single', 'exception', 'of', 'the', 'red', 'crosses', 'and', 'the', 'written', 'notes', '.']\n",
      "어간 추출 후 : ['thi', 'wa', 'not', 'the', 'map', 'we', 'found', 'in', 'billi', 'bone', \"'s\", 'chest', ',', 'but', 'an', 'accur', 'copi', ',', 'complet', 'in', 'all', 'thing', '--', 'name', 'and', 'height', 'and', 'sound', '--', 'with', 'the', 'singl', 'except', 'of', 'the', 'red', 'cross', 'and', 'the', 'written', 'note', '.']\n"
     ]
    }
   ],
   "source": [
    "stemmer = PorterStemmer()\n",
    "\n",
    "tokenizer = TreebankWordTokenizer()\n",
    "\n",
    "rowdata = \"This was not the map we found in Billy Bones's chest, but an accurate copy, complete in all things--names and heights and soundings--with the single exception of the red crosses and the written notes.\"\n",
    "\n",
    "tokens = tokenizer.tokenize(rowdata)\n",
    "\n",
    "# tokens에서 하나씩 어간 추출\n",
    "data = [stemmer.stem(data) for data in tokens]\n",
    "\n",
    "# 결과 출력\n",
    "print('어간 추출 전 :', tokens)\n",
    "print('어간 추출 후 :', data)"
   ]
  },
  {
   "cell_type": "code",
   "execution_count": 20,
   "metadata": {},
   "outputs": [
    {
     "name": "stdout",
     "output_type": "stream",
     "text": [
      "어간 추출 전 : ['policy', 'doing', 'organization', 'have', 'going', 'love', 'lives', 'fly', 'dies', 'watched', 'has', 'starting']\n",
      "포터 스테머의 어간 추출 후: ['polici', 'do', 'organ', 'have', 'go', 'love', 'live', 'fli', 'die', 'watch', 'ha', 'start']\n",
      "랭커스터 스테머의 어간 추출 후: ['policy', 'doing', 'org', 'hav', 'going', 'lov', 'liv', 'fly', 'die', 'watch', 'has', 'start']\n"
     ]
    }
   ],
   "source": [
    "\n",
    "# 어간 추출 함수 설정\n",
    "porter_stemmer = PorterStemmer()\n",
    "lancaster_stemmer = LancasterStemmer()\n",
    "\n",
    "rowdata = ['policy', 'doing', 'organization', 'have', 'going', 'love', 'lives', 'fly', 'dies', 'watched', 'has', 'starting']\n",
    "\n",
    "# rowdata에서 하나씩 어간 추출\n",
    "porterdata = [porter_stemmer.stem(data) for data in rowdata]\n",
    "lancasterdata = [lancaster_stemmer.stem(data) for data in rowdata]\n",
    "\n",
    "# 결과 출력\n",
    "print('어간 추출 전 :', rowdata)\n",
    "print('포터 스테머의 어간 추출 후:',porterdata)\n",
    "print('랭커스터 스테머의 어간 추출 후:',lancasterdata)"
   ]
  },
  {
   "cell_type": "code",
   "execution_count": 21,
   "metadata": {},
   "outputs": [
    {
     "name": "stderr",
     "output_type": "stream",
     "text": [
      "[nltk_data] Downloading package stopwords to\n",
      "[nltk_data]     C:\\Users\\nsun5\\AppData\\Roaming\\nltk_data...\n"
     ]
    },
    {
     "name": "stdout",
     "output_type": "stream",
     "text": [
      "불용어 개수 : 179\n",
      "불용어 10개 출력 : ['i', 'me', 'my', 'myself', 'we', 'our', 'ours', 'ourselves', 'you', \"you're\"]\n"
     ]
    },
    {
     "name": "stderr",
     "output_type": "stream",
     "text": [
      "[nltk_data]   Unzipping corpora\\stopwords.zip.\n"
     ]
    }
   ],
   "source": [
    "# stopwords 다운로드\n",
    "nltk.download('stopwords')\n",
    "\n",
    "# english 불용어 설정\n",
    "stop_words_list = stopwords.words('english')\n",
    "\n",
    "# 불용어 리스트 살펴보기\n",
    "print('불용어 개수 :', len(stop_words_list))\n",
    "print('불용어 10개 출력 :',stop_words_list[:10])"
   ]
  },
  {
   "cell_type": "code",
   "execution_count": 22,
   "metadata": {},
   "outputs": [
    {
     "name": "stdout",
     "output_type": "stream",
     "text": [
      "불용어 제거 전 : ['Family', 'is', 'not', 'an', 'important', 'thing.', 'It', \"'s\", 'everything', '.']\n",
      "불용어 제거 후 : ['Family', 'important', 'thing.', 'It', \"'s\", 'everything', '.']\n"
     ]
    },
    {
     "name": "stderr",
     "output_type": "stream",
     "text": [
      "[nltk_data] Downloading package stopwords to\n",
      "[nltk_data]     C:\\Users\\nsun5\\AppData\\Roaming\\nltk_data...\n",
      "[nltk_data]   Package stopwords is already up-to-date!\n"
     ]
    }
   ],
   "source": [
    "import nltk\n",
    "from nltk.tokenize import TreebankWordTokenizer\n",
    "from nltk.corpus import stopwords\n",
    "nltk.download('stopwords')\n",
    "\n",
    "stopwords = stopwords.words('english')\n",
    "tokenizer = TreebankWordTokenizer()\n",
    "\n",
    "rowdata = \"Family is not an important thing. It's everything.\"\n",
    "\n",
    "\n",
    "tokens = tokenizer.tokenize(rowdata)\n",
    "\n",
    "# tokens에서 하나씩 출력하여 stopwords에 포함되어 있지 않은 단어 추출\n",
    "data = [data for data in tokens if data not in stopwords]\n",
    "\n",
    "# 결과 출력\n",
    "print('불용어 제거 전 :',tokens) \n",
    "print('불용어 제거 후 :',data)"
   ]
  },
  {
   "cell_type": "code",
   "execution_count": 23,
   "metadata": {},
   "outputs": [
    {
     "name": "stdout",
     "output_type": "stream",
     "text": [
      "불용어 제거 전 : ['오늘', '은', '날씨', '가', '너무', '더운데', '이렇게', '더운', '날', '이', '지속', '된다면', '우리', '는', '모두', '타', '죽고', '말거야']\n",
      "불용어 제거 후 : ['오늘', '날씨', '날', '지속', '우리', '죽고']\n"
     ]
    }
   ],
   "source": [
    "from konlpy.tag import Okt\n",
    "\n",
    "okt = Okt()\n",
    "\n",
    "#국어시간에 나오는 지문 활용하기\n",
    "rowdata = \"오늘은 날씨가 너무 더운데 이렇게 더운 날이 지속된다면 우리는 모두 타 죽고 말거야\"\n",
    "\n",
    "# 불용어 리스트 설정 띄어쓰기별로 설정 가능 또는 리스트 형태로 제작\n",
    "stop_words = \"은 가 너무 더운데 이렇게 더운 이 된다면 는 모두 타 말거야\"\n",
    "\n",
    "# 띄어쓰기 단위로 불용어 리스트 만들기\n",
    "stop_words = set(stop_words.split(' '))\n",
    "\n",
    "# 한글 토큰화\n",
    "word_tokens = okt.morphs(rowdata)\n",
    "\n",
    "# 불용어 리스트에 워드 토큰 단어가 들어있지 않다면 data에 포함\n",
    "data = [word for word in word_tokens if not word in stop_words]\n",
    "\n",
    "print('불용어 제거 전 :',word_tokens) \n",
    "print('불용어 제거 후 :',data)"
   ]
  }
 ],
 "metadata": {
  "kernelspec": {
   "display_name": "Python 3.9.7 ('base')",
   "language": "python",
   "name": "python3"
  },
  "language_info": {
   "codemirror_mode": {
    "name": "ipython",
    "version": 3
   },
   "file_extension": ".py",
   "mimetype": "text/x-python",
   "name": "python",
   "nbconvert_exporter": "python",
   "pygments_lexer": "ipython3",
   "version": "3.9.7"
  },
  "orig_nbformat": 4,
  "vscode": {
   "interpreter": {
    "hash": "20efb7bbc3e880fa5daaecac3f0f42ac0fcde1e987afd03e25384b1713bb4579"
   }
  }
 },
 "nbformat": 4,
 "nbformat_minor": 2
}
